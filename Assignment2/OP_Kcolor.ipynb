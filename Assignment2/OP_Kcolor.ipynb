{
 "cells": [
  {
   "cell_type": "code",
   "execution_count": 1,
   "metadata": {},
   "outputs": [
    {
     "name": "stderr",
     "output_type": "stream",
     "text": [
      "C:\\Users\\vparihar\\AppData\\Local\\Continuum\\anaconda3\\lib\\site-packages\\sklearn\\externals\\six.py:31: DeprecationWarning: The module is deprecated in version 0.21 and will be removed in version 0.23 since we've dropped support for Python 2.7. Please rely on the official version of six (https://pypi.org/project/six/).\n",
      "  \"(https://pypi.org/project/six/).\", DeprecationWarning)\n"
     ]
    }
   ],
   "source": [
    "import mlrose\n",
    "import numpy as np\n",
    "import time"
   ]
  },
  {
   "cell_type": "code",
   "execution_count": 2,
   "metadata": {},
   "outputs": [],
   "source": [
    "edges =[(0, 1), (0, 2), (0, 4), (1, 3), (2, 3), (3, 4)]\n",
    "fitness = mlrose.MaxKColor(edges)\n",
    "problem = mlrose.DiscreteOpt(length = 5, fitness_fn = fitness, maximize = True, max_val = 2)\n",
    "\n",
    "# Define initial state\n",
    "init_state = np.array([0, 0,0,0,0])"
   ]
  },
  {
   "cell_type": "code",
   "execution_count": 3,
   "metadata": {},
   "outputs": [],
   "source": [
    "schedule = mlrose.ExpDecay()"
   ]
  },
  {
   "cell_type": "code",
   "execution_count": 4,
   "metadata": {},
   "outputs": [
    {
     "name": "stdout",
     "output_type": "stream",
     "text": [
      "Simulated Annealing time:  0.03273940086364746\n",
      "[1 1 1 1 1] 6.0 243\n"
     ]
    }
   ],
   "source": [
    "# Solve problem using Simulated Annealing\n",
    "start_time = time.time()\n",
    "best_state, best_fitness,fitness_curve = mlrose.simulated_annealing(problem, schedule = schedule,\n",
    "                                                      max_attempts = 100, max_iters = 1000,\n",
    "                                                      init_state = init_state, random_state = 1 , curve = True)\n",
    "print(\"Simulated Annealing time: \",time.time()-start_time)\n",
    "\n",
    "print(best_state,best_fitness,fitness_curve.size)"
   ]
  },
  {
   "cell_type": "code",
   "execution_count": 5,
   "metadata": {},
   "outputs": [
    {
     "name": "stdout",
     "output_type": "stream",
     "text": [
      "rhc time without restart:  0.0\n",
      "[0 0 0 0 0] 6.0 100\n"
     ]
    }
   ],
   "source": [
    "# Solve problem using Random Hill Climbing without restart\n",
    "start_time =time.time()\n",
    "best_state, best_fitness,fitness_curve = mlrose.random_hill_climb(problem,max_attempts = 100, max_iters = 1000,\n",
    "                                                      init_state = init_state, random_state = 1 , curve = True)\n",
    "print(\"rhc time without restart: \",time.time()-start_time)\n",
    "\n",
    "print(best_state,best_fitness,fitness_curve.size)"
   ]
  },
  {
   "cell_type": "code",
   "execution_count": 6,
   "metadata": {},
   "outputs": [
    {
     "name": "stdout",
     "output_type": "stream",
     "text": [
      "rhc time with restart:  0.010860681533813477\n",
      "[0 0 0 0 0] 6.0 300\n"
     ]
    }
   ],
   "source": [
    "# Solve problem using Random Hill Climbing with restart\n",
    "start_time =time.time()\n",
    "best_state, best_fitness,fitness_curve = mlrose.random_hill_climb(problem,max_attempts = 100, max_iters = 1000,\n",
    "                                                      init_state = init_state, random_state = 1 , restarts =2 ,curve = True)\n",
    "print(\"rhc time with restart: \",time.time()-start_time)\n",
    "print(best_state,best_fitness,fitness_curve.size)"
   ]
  },
  {
   "cell_type": "code",
   "execution_count": 7,
   "metadata": {},
   "outputs": [
    {
     "name": "stdout",
     "output_type": "stream",
     "text": [
      "Genetic time:  3.1095077991485596\n",
      "[0 0 0 0 0] 6.0 101\n"
     ]
    }
   ],
   "source": [
    "# Solve problem using Gentic Algorithm\n",
    "start_time =time.time()\n",
    "best_state, best_fitness,fitness_curve = mlrose.genetic_alg(problem, pop_size=200, mutation_prob=0.1, \n",
    "                                                            max_attempts = 100, max_iters = 1000, curve=True, random_state=1)\n",
    "print(\"Genetic time: \",time.time()-start_time)\n",
    "print(best_state,best_fitness,fitness_curve.size)"
   ]
  },
  {
   "cell_type": "code",
   "execution_count": 8,
   "metadata": {},
   "outputs": [
    {
     "name": "stdout",
     "output_type": "stream",
     "text": [
      "Mimic Fast time:  1.0994210243225098\n",
      "[0 0 0 0 0] 6.0 101\n"
     ]
    }
   ],
   "source": [
    "# Solve problem using Mimic Fast Algorithm\n",
    "start_time =time.time()\n",
    "best_state, best_fitness,fitness_curve = mlrose.mimic(problem, pop_size=200, keep_pct=0.2, max_attempts = 100, max_iters = 1000, curve=True, random_state=1, fast_mimic=True)\n",
    "\n",
    "print(\"Mimic Fast time: \",time.time()-start_time)\n",
    "print(best_state,best_fitness,fitness_curve.size)"
   ]
  },
  {
   "cell_type": "code",
   "execution_count": 9,
   "metadata": {},
   "outputs": [
    {
     "name": "stdout",
     "output_type": "stream",
     "text": [
      "Mimic Slow time:  2.9592316150665283\n",
      "[0 0 0 0 0] 6.0 101\n"
     ]
    }
   ],
   "source": [
    "# Solve problem using Mimic Slow Algorithm\n",
    "start_time =time.time()\n",
    "best_state, best_fitness,fitness_curve = mlrose.mimic(problem, pop_size=200, keep_pct=0.2, max_attempts = 100, max_iters = 1000, curve=True, random_state=1, fast_mimic=False)\n",
    "\n",
    "print(\"Mimic Slow time: \",time.time()-start_time)\n",
    "print(best_state,best_fitness,fitness_curve.size)"
   ]
  }
 ],
 "metadata": {
  "kernelspec": {
   "display_name": "Python 3",
   "language": "python",
   "name": "python3"
  },
  "language_info": {
   "codemirror_mode": {
    "name": "ipython",
    "version": 3
   },
   "file_extension": ".py",
   "mimetype": "text/x-python",
   "name": "python",
   "nbconvert_exporter": "python",
   "pygments_lexer": "ipython3",
   "version": "3.7.4"
  }
 },
 "nbformat": 4,
 "nbformat_minor": 2
}
