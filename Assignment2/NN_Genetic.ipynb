{
 "cells": [
  {
   "cell_type": "code",
   "execution_count": 1,
   "metadata": {},
   "outputs": [],
   "source": [
    "import pandas as pd\n",
    "from pandas import Series\n",
    "import numpy as np\n",
    "import time\n",
    "import mlrose_reborn as mlrose\n",
    "\n",
    "\n",
    "from sklearn.model_selection import train_test_split\n",
    "from sklearn.metrics import accuracy_score\n",
    "from sklearn.metrics import precision_score\n",
    "from sklearn.metrics import recall_score\n",
    "from sklearn.metrics import roc_auc_score\n",
    "from sklearn.metrics import r2_score\n",
    "from sklearn.metrics import mean_squared_error\n",
    "\n",
    "from sklearn import preprocessing\n",
    "\n",
    "from sklearn.neural_network import MLPClassifier\n",
    "from sklearn.model_selection import learning_curve\n",
    "import matplotlib.pyplot as plt\n",
    "\n"
   ]
  },
  {
   "cell_type": "code",
   "execution_count": 2,
   "metadata": {},
   "outputs": [
    {
     "data": {
      "text/plain": [
       "'0.21.2'"
      ]
     },
     "execution_count": 2,
     "metadata": {},
     "output_type": "execute_result"
    }
   ],
   "source": [
    "import sklearn\n",
    "sklearn.__version__"
   ]
  },
  {
   "cell_type": "code",
   "execution_count": 3,
   "metadata": {},
   "outputs": [],
   "source": [
    "result_dict = {}"
   ]
  },
  {
   "cell_type": "code",
   "execution_count": 4,
   "metadata": {},
   "outputs": [],
   "source": [
    "def summarise_classification(Y_test,Y_pred):\n",
    "    \n",
    "    acc = accuracy_score(Y_test,Y_pred,normalize=True)\n",
    "    prec = precision_score(Y_test,Y_pred)\n",
    "    rec = recall_score(Y_test,Y_pred)\n",
    "    roc = roc_auc_score(Y_test,Y_pred)\n",
    "    r2 = r2_score(Y_test,Y_pred)\n",
    "    mse = mean_squared_error(Y_test,Y_pred)\n",
    "    acc_count = accuracy_score(Y_test,Y_pred,normalize=False)\n",
    "    #model_crosstab = pd.crosstab(Y_test,Y_pred)\n",
    "    return {'accuracy':acc,'precision':prec,'recall':rec ,'AUC':roc,'accuracy_count':acc_count,'r2Score':r2,'mean_squared_error':mse}\n"
   ]
  },
  {
   "cell_type": "code",
   "execution_count": 5,
   "metadata": {},
   "outputs": [],
   "source": [
    "def buildModel(class_fn,X,Y,test_frac=0.2):\n",
    "        \n",
    "    X_train,X_test,Y_train,Y_test = train_test_split(X, Y, test_size=test_frac,random_state=1)\n",
    "    model = class_fn(X_train,Y_train)\n",
    "    \n",
    "    Y_pred = model.predict(X_test)\n",
    "    \n",
    "    Y_pred_train = model.predict(X_train)\n",
    "    train_summary = summarise_classification(Y_train,Y_pred_train)\n",
    "    test_summary = summarise_classification( Y_test,Y_pred)\n",
    "    \n",
    "    #pred_result = pd.DataFrame({'Y_test':Y_test,'Y_pred':Y_pred})\n",
    "    \n",
    "    \n",
    "    \n",
    "    return model,{'training':train_summary,'test':test_summary}"
   ]
  },
  {
   "cell_type": "code",
   "execution_count": 6,
   "metadata": {},
   "outputs": [],
   "source": [
    "\n",
    "#label_encoding.classes_"
   ]
  },
  {
   "cell_type": "code",
   "execution_count": 7,
   "metadata": {},
   "outputs": [],
   "source": [
    "def compare_results():\n",
    "    for key in result_dict:\n",
    "        print ('Classification: ',key)\n",
    "        print()\n",
    "        print('Training data')\n",
    "        for scorekey in result_dict[key]['training']:\n",
    "            print(scorekey,': ',result_dict[key]['training'][scorekey])\n",
    "            \n",
    "        print()\n",
    "        print('Test data')\n",
    "        for scorekey in result_dict[key]['test']:\n",
    "            print(scorekey, ': ' ,result_dict[key]['test'][scorekey])\n",
    "        \n",
    "        print()     \n",
    "                      \n",
    "        "
   ]
  },
  {
   "cell_type": "code",
   "execution_count": 8,
   "metadata": {},
   "outputs": [],
   "source": [
    "def classifier_fn(x_train,y_train):\n",
    "    model = mlrose.NeuralNetwork(hidden_nodes = [5], activation='relu',algorithm = 'genetic_alg', pop_size=200, \n",
    "                          learning_rate = 0.001,max_iters=6000)   \n",
    "    start_time = time.time()\n",
    "    model.fit(x_train,y_train)\n",
    "    print(\"training time base model: \",(time.time() - start_time) ,\" seconds\")\n",
    "    \n",
    "    return model\n"
   ]
  },
  {
   "cell_type": "code",
   "execution_count": 9,
   "metadata": {},
   "outputs": [
    {
     "name": "stdout",
     "output_type": "stream",
     "text": [
      "Index(['age', 'workclass', 'fnlwgt', 'education', 'education-num',\n",
      "       'marital-status', 'occupation', 'relationship', 'race', 'sex',\n",
      "       'capital-gain', 'capital-loss', 'hours-per-week', 'native-country'],\n",
      "      dtype='object')\n",
      "(32561, 14)\n",
      "(32561,)\n"
     ]
    }
   ],
   "source": [
    "dfAdult = pd.read_csv(\".\\\\data\\\\adult.csv\")\n",
    "\n",
    "# reshuffle input data ..good thing for neural netwrok\n",
    "#dfAdult = dfAdult.sample(frac=1).reset_index(drop=True) \n",
    "\n",
    "dfAdultHotEncoded = pd.get_dummies(dfAdult,columns=['salary','education','workclass','occupation','relationship','marital-status','race','sex'])\n",
    "dfAdultHotEncoded = dfAdultHotEncoded.drop(columns=['salary_ <=50K','native-country'])\n",
    "X_HotEncoded = dfAdultHotEncoded.drop('salary_ >50K',axis=1)\n",
    "Y_HotEncoded = dfAdultHotEncoded['salary_ >50K']\n",
    "\n",
    "label_encoding = preprocessing.LabelEncoder()\n",
    "dfAdult['salary'] = label_encoding.fit_transform(dfAdult['salary'])\n",
    "dfAdult['education'] = label_encoding.fit_transform(dfAdult['education'])\n",
    "dfAdult['workclass'] = label_encoding.fit_transform(dfAdult['workclass'])\n",
    "dfAdult['occupation'] = label_encoding.fit_transform(dfAdult['occupation'])\n",
    "dfAdult['relationship'] = label_encoding.fit_transform(dfAdult['relationship'])\n",
    "dfAdult['marital-status'] = label_encoding.fit_transform(dfAdult['marital-status'])\n",
    "dfAdult['race'] = label_encoding.fit_transform(dfAdult['race'])\n",
    "dfAdult['sex'] = label_encoding.fit_transform(dfAdult['sex'])\n",
    "dfAdult['native-country']=label_encoding.fit_transform(dfAdult['native-country'])\n",
    "\n",
    "X = dfAdult.drop('salary',axis=1)\n",
    "Y = dfAdult['salary']\n",
    "print(X.columns)\n",
    "print(X.shape)\n",
    "\n",
    "print(Y.shape)\n",
    "\n",
    "\n",
    "#X=X_HotEncoded\n",
    "#Y=Y_HotEncoded\n",
    "#X = X[:, None]\n"
   ]
  },
  {
   "cell_type": "code",
   "execution_count": 10,
   "metadata": {},
   "outputs": [],
   "source": [
    "\"\"\"\n",
    "https://scikit-learn.org/stable/auto_examples/model_selection/plot_learning_curve.html\n",
    "#sphx-glr-auto-examples-model-selection-plot-learning-curve-py \n",
    "\"\"\"\n",
    "def plot_learning_curve(estimator, title, X, y, axes=None, ylim=None, cv=None,\n",
    "                        n_jobs=None, train_sizes=np.linspace(.1, 1.0, 5)):\n",
    "    \n",
    "    if axes is None:\n",
    "        _, axes = plt.subplots(1, 3, figsize=(20, 5))\n",
    "\n",
    "    axes[0].set_title(title)\n",
    "    if ylim is not None:\n",
    "        axes[0].set_ylim(*ylim)\n",
    "    axes[0].set_xlabel(\"Training examples\")\n",
    "    axes[0].set_ylabel(\"Score\")\n",
    "\n",
    "    train_sizes, train_scores, test_scores= \\\n",
    "        learning_curve(estimator, X, y, cv=cv, n_jobs=n_jobs,train_sizes=train_sizes)\n",
    "    train_scores_mean = np.mean(train_scores, axis=1)\n",
    "    train_scores_std = np.std(train_scores, axis=1)\n",
    "    test_scores_mean = np.mean(test_scores, axis=1)\n",
    "    test_scores_std = np.std(test_scores, axis=1)\n",
    "    #fit_times_mean = np.mean(fit_times, axis=1)\n",
    "    #fit_times_std = np.std(fit_times, axis=1)\n",
    "  \n",
    "    # Plot learning curve\n",
    "    axes[0].grid()\n",
    "    axes[0].fill_between(train_sizes, train_scores_mean - train_scores_std,\n",
    "                         train_scores_mean + train_scores_std, alpha=0.1,\n",
    "                         color=\"r\")\n",
    "    axes[0].fill_between(train_sizes, test_scores_mean - test_scores_std,\n",
    "                         test_scores_mean + test_scores_std, alpha=0.1,\n",
    "                         color=\"g\")\n",
    "    axes[0].plot(train_sizes, train_scores_mean, 'o-', color=\"r\",\n",
    "                 label=\"Training score\")\n",
    "    axes[0].plot(train_sizes, test_scores_mean, 'o-', color=\"g\",\n",
    "                 label=\"Cross-validation score\")\n",
    "    axes[0].legend(loc=\"best\")\n",
    "    \"\"\"\n",
    "    # Plot n_samples vs fit_times\n",
    "    axes[1].grid()\n",
    "    axes[1].plot(train_sizes, fit_times_mean, 'o-')\n",
    "    axes[1].fill_between(train_sizes, fit_times_mean - fit_times_std,\n",
    "                         fit_times_mean + fit_times_std, alpha=0.1)\n",
    "    axes[1].set_xlabel(\"Training examples\")\n",
    "    axes[1].set_ylabel(\"fit_times\")\n",
    "    axes[1].set_title(\"Scalability of the model\")\n",
    "\n",
    "    # Plot fit_time vs score\n",
    "    axes[2].grid()\n",
    "    axes[2].plot(fit_times_mean, test_scores_mean, 'o-')\n",
    "    axes[2].fill_between(fit_times_mean, test_scores_mean - test_scores_std,\n",
    "                         test_scores_mean + test_scores_std, alpha=0.1)\n",
    "    axes[2].set_xlabel(\"fit_times\")\n",
    "    axes[2].set_ylabel(\"Score\")\n",
    "    axes[2].set_title(\"Performance of the model\")\n",
    "    \"\"\"\n",
    "    return plt\n"
   ]
  },
  {
   "cell_type": "code",
   "execution_count": null,
   "metadata": {
    "scrolled": true
   },
   "outputs": [],
   "source": [
    "model,result_dict['MLPClassifier_Adult'] = buildModel(classifier_fn,X,Y)\n",
    "compare_results()\n",
    "\n",
    "train_sizes = [500,1000,5000, 10000, 15000, 20000]\n",
    "#fig, axes = plt.subplots(2, 2, figsize=(10, 15))\n",
    "\n",
    "#X, y = load_digits(return_X_y=True)\n",
    "\n",
    "#title = \"Learning Curves MLPClassifier-Adult Dataset\"\n",
    "\n",
    "#plot_learning_curve(model, title, X, Y, axes=axes[:, 0],\n",
    "            #        cv=3, n_jobs=-1,train_sizes=train_sizes)\n",
    "\n",
    "#plt.show()"
   ]
  }
 ],
 "metadata": {
  "kernelspec": {
   "display_name": "Python 3",
   "language": "python",
   "name": "python3"
  },
  "language_info": {
   "codemirror_mode": {
    "name": "ipython",
    "version": 3
   },
   "file_extension": ".py",
   "mimetype": "text/x-python",
   "name": "python",
   "nbconvert_exporter": "python",
   "pygments_lexer": "ipython3",
   "version": "3.7.3"
  }
 },
 "nbformat": 4,
 "nbformat_minor": 2
}
