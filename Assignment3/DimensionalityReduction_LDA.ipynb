{
 "cells": [
  {
   "cell_type": "code",
   "execution_count": 2,
   "metadata": {},
   "outputs": [],
   "source": [
    "import pandas as pd\n",
    "import numpy as np\n",
    "import time\n",
    "\n",
    "from sklearn import preprocessing\n",
    "from sklearn.mixture import GaussianMixture\n",
    "from sklearn.metrics import silhouette_score\n",
    "from sklearn.discriminant_analysis import LinearDiscriminantAnalysis\n",
    "import matplotlib.pyplot as plt\n",
    "\n"
   ]
  },
  {
   "cell_type": "code",
   "execution_count": 3,
   "metadata": {},
   "outputs": [
    {
     "name": "stdout",
     "output_type": "stream",
     "text": [
      "Index(['age', 'workclass', 'fnlwgt', 'education', 'education-num',\n",
      "       'marital-status', 'occupation', 'relationship', 'race', 'sex',\n",
      "       'capital-gain', 'capital-loss', 'hours-per-week', 'native-country'],\n",
      "      dtype='object')\n",
      "(32561, 14)\n",
      "Index(['age', 'fnlwgt', 'education-num', 'capital-gain', 'capital-loss',\n",
      "       'hours-per-week', 'education_ 10th', 'education_ 11th',\n",
      "       'education_ 12th', 'education_ 1st-4th', 'education_ 5th-6th',\n",
      "       'education_ 7th-8th', 'education_ 9th', 'education_ Assoc-acdm',\n",
      "       'education_ Assoc-voc', 'education_ Bachelors', 'education_ Doctorate',\n",
      "       'education_ HS-grad', 'education_ Masters', 'education_ Preschool',\n",
      "       'education_ Prof-school', 'education_ Some-college', 'workclass_ ?',\n",
      "       'workclass_ Federal-gov', 'workclass_ Local-gov',\n",
      "       'workclass_ Never-worked', 'workclass_ Private',\n",
      "       'workclass_ Self-emp-inc', 'workclass_ Self-emp-not-inc',\n",
      "       'workclass_ State-gov', 'workclass_ Without-pay', 'occupation_ ?',\n",
      "       'occupation_ Adm-clerical', 'occupation_ Armed-Forces',\n",
      "       'occupation_ Craft-repair', 'occupation_ Exec-managerial',\n",
      "       'occupation_ Farming-fishing', 'occupation_ Handlers-cleaners',\n",
      "       'occupation_ Machine-op-inspct', 'occupation_ Other-service',\n",
      "       'occupation_ Priv-house-serv', 'occupation_ Prof-specialty',\n",
      "       'occupation_ Protective-serv', 'occupation_ Sales',\n",
      "       'occupation_ Tech-support', 'occupation_ Transport-moving',\n",
      "       'relationship_ Husband', 'relationship_ Not-in-family',\n",
      "       'relationship_ Other-relative', 'relationship_ Own-child',\n",
      "       'relationship_ Unmarried', 'relationship_ Wife',\n",
      "       'marital-status_ Divorced', 'marital-status_ Married-AF-spouse',\n",
      "       'marital-status_ Married-civ-spouse',\n",
      "       'marital-status_ Married-spouse-absent',\n",
      "       'marital-status_ Never-married', 'marital-status_ Separated',\n",
      "       'marital-status_ Widowed', 'race_ Amer-Indian-Eskimo',\n",
      "       'race_ Asian-Pac-Islander', 'race_ Black', 'race_ Other', 'race_ White',\n",
      "       'sex_ Female', 'sex_ Male'],\n",
      "      dtype='object')\n",
      "(32561, 66)\n"
     ]
    }
   ],
   "source": [
    "dfAdult = pd.read_csv(\".\\\\data\\\\adult.csv\")\n",
    "\n",
    "# reshuffle input data ..good thing for neural netwrok\n",
    "#dfAdult = dfAdult.sample(frac=1).reset_index(drop=True) \n",
    "dfAdultWithoutSalary = dfAdult.drop(columns=['salary'])\n",
    "dfAdultHotEncoded = pd.get_dummies(dfAdult,columns=['salary','education','workclass','occupation','relationship','marital-status','race','sex'])\n",
    "dfAdultHotEncoded = dfAdultHotEncoded.drop(columns=['salary_ <=50K','native-country'])\n",
    "X_HotEncoded = dfAdultHotEncoded.drop('salary_ >50K',axis=1)\n",
    "Y_HotEncoded = dfAdultHotEncoded['salary_ >50K']\n",
    "\n",
    "X_HotEncoded_NumOfFeatures = len(list(X_HotEncoded.columns))\n",
    "\n",
    "label_encoding = preprocessing.LabelEncoder()\n",
    "dfAdult['salary'] = label_encoding.fit_transform(dfAdult['salary'])\n",
    "dfAdult['education'] = label_encoding.fit_transform(dfAdult['education'])\n",
    "dfAdult['workclass'] = label_encoding.fit_transform(dfAdult['workclass'])\n",
    "dfAdult['occupation'] = label_encoding.fit_transform(dfAdult['occupation'])\n",
    "dfAdult['relationship'] = label_encoding.fit_transform(dfAdult['relationship'])\n",
    "dfAdult['marital-status'] = label_encoding.fit_transform(dfAdult['marital-status'])\n",
    "dfAdult['race'] = label_encoding.fit_transform(dfAdult['race'])\n",
    "dfAdult['sex'] = label_encoding.fit_transform(dfAdult['sex'])\n",
    "dfAdult['native-country']=label_encoding.fit_transform(dfAdult['native-country'])\n",
    "\n",
    "X = dfAdult.drop('salary',axis=1)\n",
    "Y = dfAdult['salary']\n",
    "X_LabelEncoded_NumOfFeatures = len(list(X.columns))\n",
    "print(X.columns)\n",
    "print(X.shape)\n",
    "\n",
    "\n",
    "\n",
    "print(X_HotEncoded.columns)\n",
    "print(X_HotEncoded.shape)\n",
    "#X=X_HotEncoded\n",
    "#Y=Y_HotEncoded\n",
    "#X = X[:, None]\n"
   ]
  },
  {
   "cell_type": "code",
   "execution_count": 4,
   "metadata": {},
   "outputs": [
    {
     "name": "stdout",
     "output_type": "stream",
     "text": [
      "(2000, 500)\n",
      "(2000,)\n",
      "Index(['Col1', 'Col2', 'Col3', 'Col4', 'Col5', 'Col6', 'Col7', 'Col8', 'Col9',\n",
      "       'Col10',\n",
      "       ...\n",
      "       'Col492', 'Col493', 'Col494', 'Col495', 'Col496', 'Col497', 'Col498',\n",
      "       'Col499', 'Col500', 'Predict'],\n",
      "      dtype='object', length=501)\n",
      "(2000, 500)\n"
     ]
    }
   ],
   "source": [
    "dfMadelon_X = pd.read_csv(\".\\\\data\\\\madelon_train.csv\")\n",
    "dfMadelon_Y1 = pd.read_csv(\".\\\\data\\\\madelon_train_labels.csv\")\n",
    "\n",
    "dfMadelon_Y = dfMadelon_Y1['Predict']\n",
    "\n",
    "dfMadelon = dfMadelon_X.copy()\n",
    "dfMadelon[\"Predict\"] = dfMadelon_Y\n",
    "dfMadelon_X_NumOfFeatures = len(list(dfMadelon_X.columns))\n",
    "print(dfMadelon_X.shape)\n",
    "print(dfMadelon_Y.shape)\n",
    "print(dfMadelon.columns)\n",
    "\n",
    "from sklearn.preprocessing import MinMaxScaler\n",
    "scaler = MinMaxScaler()\n",
    "dfMadelon_X_scaled=scaler.fit_transform(dfMadelon_X)\n",
    "\n",
    "print(dfMadelon_X_scaled.shape)\n",
    "\n",
    "np.random.seed =10"
   ]
  },
  {
   "cell_type": "code",
   "execution_count": 7,
   "metadata": {},
   "outputs": [],
   "source": [
    "np.random.seed =10\n",
    "def LDA(data,groundtruth):\n",
    "    numFeature=0    \n",
    "    model = LinearDiscriminantAnalysis(n_components=1)\n",
    "        \n",
    "    data_new = model.fit(data,groundtruth).transform(data)\n",
    "        \n",
    "    print(model.explained_variance_ratio_)\n",
    "    \n",
    "    \n",
    "    print(model.score(data,groundtruth))\n",
    "    "
   ]
  },
  {
   "cell_type": "code",
   "execution_count": 8,
   "metadata": {},
   "outputs": [
    {
     "name": "stdout",
     "output_type": "stream",
     "text": [
      "[1.]\n",
      "0.8412518043057645\n"
     ]
    }
   ],
   "source": [
    "LDA(X_HotEncoded,Y_HotEncoded)"
   ]
  },
  {
   "cell_type": "code",
   "execution_count": 9,
   "metadata": {},
   "outputs": [
    {
     "name": "stdout",
     "output_type": "stream",
     "text": [
      "[1.]\n",
      "0.7405\n"
     ]
    }
   ],
   "source": [
    "LDA(dfMadelon_X_scaled,dfMadelon_Y)"
   ]
  }
 ],
 "metadata": {
  "kernelspec": {
   "display_name": "Python 3",
   "language": "python",
   "name": "python3"
  },
  "language_info": {
   "codemirror_mode": {
    "name": "ipython",
    "version": 3
   },
   "file_extension": ".py",
   "mimetype": "text/x-python",
   "name": "python",
   "nbconvert_exporter": "python",
   "pygments_lexer": "ipython3",
   "version": "3.7.4"
  }
 },
 "nbformat": 4,
 "nbformat_minor": 2
}
