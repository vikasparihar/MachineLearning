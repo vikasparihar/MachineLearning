{
 "cells": [
  {
   "cell_type": "code",
   "execution_count": 1,
   "metadata": {},
   "outputs": [],
   "source": [
    "import pandas as pd\n",
    "import numpy as np\n",
    "import time\n",
    "\n",
    "from sklearn.model_selection import train_test_split\n",
    "from sklearn.metrics import accuracy_score\n",
    "from sklearn.metrics import precision_score\n",
    "from sklearn.metrics import recall_score\n",
    "from sklearn.metrics import roc_auc_score\n",
    "from sklearn.metrics import r2_score\n",
    "from sklearn.metrics import mean_squared_error\n",
    "\n",
    "from sklearn import preprocessing\n",
    "from sklearn.pipeline import Pipeline\n",
    "\n",
    "from sklearn.svm import SVC\n",
    "from sklearn.model_selection import learning_curve\n",
    "import matplotlib.pyplot as plt\n",
    "\n"
   ]
  },
  {
   "cell_type": "code",
   "execution_count": 2,
   "metadata": {},
   "outputs": [
    {
     "data": {
      "text/plain": [
       "'0.21.1'"
      ]
     },
     "execution_count": 2,
     "metadata": {},
     "output_type": "execute_result"
    }
   ],
   "source": [
    "import sklearn\n",
    "sklearn.__version__"
   ]
  },
  {
   "cell_type": "code",
   "execution_count": 3,
   "metadata": {},
   "outputs": [],
   "source": [
    "result_dict = {}"
   ]
  },
  {
   "cell_type": "code",
   "execution_count": 4,
   "metadata": {},
   "outputs": [],
   "source": [
    "def summarise_classification(Y_test,Y_pred):\n",
    "    \n",
    "    acc = accuracy_score(Y_test,Y_pred,normalize=True)\n",
    "    prec = precision_score(Y_test,Y_pred)\n",
    "    rec = recall_score(Y_test,Y_pred)\n",
    "    roc = roc_auc_score(Y_test,Y_pred)\n",
    "    r2 = r2_score(Y_test,Y_pred)\n",
    "    mse = mean_squared_error(Y_test,Y_pred)\n",
    "    acc_count = accuracy_score(Y_test,Y_pred,normalize=False)\n",
    "    model_crosstab = pd.crosstab(Y_test,Y_pred)\n",
    "    \n",
    "    return {'accuracy':acc,'precision':prec,'recall':rec ,'AUC':roc,'accuracy_count':acc_count,'r2Score':r2,'mean_squared_error':mse,'confusionmatrix':model_crosstab}\n",
    "\n"
   ]
  },
  {
   "cell_type": "code",
   "execution_count": 5,
   "metadata": {},
   "outputs": [],
   "source": [
    "def buildModel(class_fn,X,Y,test_frac=0.2):\n",
    "        \n",
    "    X_train,X_test,Y_train,Y_test = train_test_split(X, Y, test_size=test_frac)\n",
    "    model = class_fn(X_train,Y_train)\n",
    "    \n",
    "    Y_pred = model.predict(X_test)\n",
    "    \n",
    "    Y_pred_train = model.predict(X_train)\n",
    "    train_summary = summarise_classification(Y_train,Y_pred_train)\n",
    "    test_summary = summarise_classification( Y_test,Y_pred)\n",
    "    \n",
    "    pred_result = pd.DataFrame({'Y_test':Y_test,'Y_pred':Y_pred})\n",
    "    \n",
    "    \n",
    "    \n",
    "    return model,{'training':train_summary,'test':test_summary}"
   ]
  },
  {
   "cell_type": "code",
   "execution_count": 6,
   "metadata": {},
   "outputs": [],
   "source": [
    "\n",
    "#label_encoding.classes_"
   ]
  },
  {
   "cell_type": "code",
   "execution_count": 7,
   "metadata": {},
   "outputs": [],
   "source": [
    "def compare_results():\n",
    "    for key in result_dict:\n",
    "        print ('Classification: ',key)\n",
    "        print()\n",
    "        print('Training data')\n",
    "        for scorekey in result_dict[key]['training']:\n",
    "            print(scorekey,': ',result_dict[key]['training'][scorekey])\n",
    "            \n",
    "        print()\n",
    "        print('Test data')\n",
    "        for scorekey in result_dict[key]['test']:\n",
    "            print(scorekey, ': ' ,result_dict[key]['test'][scorekey])\n",
    "        \n",
    "        print()"
   ]
  },
  {
   "cell_type": "code",
   "execution_count": 8,
   "metadata": {},
   "outputs": [],
   "source": [
    "def classifier_fn(x_train,y_train):\n",
    "    #model = Pipeline([('pre',preprocessing.StandardScaler()),('clf',SVC(kernel='rbf'))]  \n",
    "    model = SVC(kernel='rbf')\n",
    "    start_time = time.time()\n",
    "    model.fit(x_train,y_train)\n",
    "    print(\"training time base model RBF kernel: \",(time.time() - start_time) ,\" seconds\")\n",
    "    \n",
    "    return model\n"
   ]
  },
  {
   "cell_type": "code",
   "execution_count": 9,
   "metadata": {},
   "outputs": [],
   "source": [
    "def classifier_fn_linear(x_train,y_train):\n",
    "    #model = Pipeline([('pre',preprocessing.StandardScaler()),('clf',SVC(kernel='linear'))]    \n",
    "    SVC(kernel='linear')\n",
    "    start_time = time.time()\n",
    "    model.fit(x_train,y_train)\n",
    "    print(\"training time base model linear: \",(time.time() - start_time) ,\" seconds\")\n",
    "    \n",
    "    return model"
   ]
  },
  {
   "cell_type": "code",
   "execution_count": 10,
   "metadata": {},
   "outputs": [
    {
     "name": "stdout",
     "output_type": "stream",
     "text": [
      "Index(['age', 'workclass', 'fnlwgt', 'education', 'education-num',\n",
      "       'marital-status', 'occupation', 'relationship', 'race', 'sex',\n",
      "       'capital-gain', 'capital-loss', 'hours-per-week', 'native-country'],\n",
      "      dtype='object')\n",
      "(32561, 14)\n",
      "(32561,)\n"
     ]
    }
   ],
   "source": [
    "dfAdult = pd.read_csv(\".\\\\data\\\\adult.csv\")\n",
    "\n",
    "# reshuffle input data ..good thing for neural netwrok\n",
    "#dfAdult = dfAdult.sample(frac=1).reset_index(drop=True) \n",
    "\n",
    "dfAdultHotEncoded = pd.get_dummies(dfAdult,columns=['salary','education','workclass','occupation','relationship','marital-status','race','sex'])\n",
    "dfAdultHotEncoded = dfAdultHotEncoded.drop(columns=['salary_ <=50K','native-country'])\n",
    "X_HotEncoded = dfAdultHotEncoded.drop('salary_ >50K',axis=1)\n",
    "Y_HotEncoded = dfAdultHotEncoded['salary_ >50K']\n",
    "\n",
    "label_encoding = preprocessing.LabelEncoder()\n",
    "dfAdult['salary'] = label_encoding.fit_transform(dfAdult['salary'])\n",
    "dfAdult['education'] = label_encoding.fit_transform(dfAdult['education'])\n",
    "dfAdult['workclass'] = label_encoding.fit_transform(dfAdult['workclass'])\n",
    "dfAdult['occupation'] = label_encoding.fit_transform(dfAdult['occupation'])\n",
    "dfAdult['relationship'] = label_encoding.fit_transform(dfAdult['relationship'])\n",
    "dfAdult['marital-status'] = label_encoding.fit_transform(dfAdult['marital-status'])\n",
    "dfAdult['race'] = label_encoding.fit_transform(dfAdult['race'])\n",
    "dfAdult['sex'] = label_encoding.fit_transform(dfAdult['sex'])\n",
    "dfAdult['native-country']=label_encoding.fit_transform(dfAdult['native-country'])\n",
    "\n",
    "X = dfAdult.drop('salary',axis=1)\n",
    "Y = dfAdult['salary']\n",
    "print(X.columns)\n",
    "print(X.shape)\n",
    "\n",
    "print(Y.shape)\n",
    "\n",
    "\n",
    "#X=X_HotEncoded\n",
    "#Y=Y_HotEncoded\n",
    "#X = X[:, None]\n"
   ]
  },
  {
   "cell_type": "code",
   "execution_count": 11,
   "metadata": {},
   "outputs": [],
   "source": [
    "\"\"\"\n",
    "https://scikit-learn.org/stable/auto_examples/model_selection/plot_learning_curve.html\n",
    "#sphx-glr-auto-examples-model-selection-plot-learning-curve-py \n",
    "\"\"\"\n",
    "def plot_learning_curve(estimator, title, X, y, axes=None, ylim=None, cv=None,\n",
    "                        n_jobs=None, train_sizes=np.linspace(.1, 1.0, 5)):\n",
    "    \n",
    "    if axes is None:\n",
    "        _, axes = plt.subplots(1, 3, figsize=(20, 5))\n",
    "\n",
    "    axes[0].set_title(title)\n",
    "    if ylim is not None:\n",
    "        axes[0].set_ylim(*ylim)\n",
    "    axes[0].set_xlabel(\"Training examples\")\n",
    "    axes[0].set_ylabel(\"Score\")\n",
    "\n",
    "    train_sizes, train_scores, test_scores= \\\n",
    "        learning_curve(estimator, X, y, cv=cv, n_jobs=n_jobs,train_sizes=train_sizes)\n",
    "    train_scores_mean = np.mean(train_scores, axis=1)\n",
    "    train_scores_std = np.std(train_scores, axis=1)\n",
    "    test_scores_mean = np.mean(test_scores, axis=1)\n",
    "    test_scores_std = np.std(test_scores, axis=1)\n",
    "    #fit_times_mean = np.mean(fit_times, axis=1)\n",
    "    #fit_times_std = np.std(fit_times, axis=1)\n",
    "  \n",
    "    # Plot learning curve\n",
    "    axes[0].grid()\n",
    "    axes[0].fill_between(train_sizes, train_scores_mean - train_scores_std,\n",
    "                         train_scores_mean + train_scores_std, alpha=0.1,\n",
    "                         color=\"r\")\n",
    "    axes[0].fill_between(train_sizes, test_scores_mean - test_scores_std,\n",
    "                         test_scores_mean + test_scores_std, alpha=0.1,\n",
    "                         color=\"g\")\n",
    "    axes[0].plot(train_sizes, train_scores_mean, 'o-', color=\"r\",\n",
    "                 label=\"Training score\")\n",
    "    axes[0].plot(train_sizes, test_scores_mean, 'o-', color=\"g\",\n",
    "                 label=\"Cross-validation score\")\n",
    "    axes[0].legend(loc=\"best\")\n",
    "    \"\"\"\n",
    "    # Plot n_samples vs fit_times\n",
    "    axes[1].grid()\n",
    "    axes[1].plot(train_sizes, fit_times_mean, 'o-')\n",
    "    axes[1].fill_between(train_sizes, fit_times_mean - fit_times_std,\n",
    "                         fit_times_mean + fit_times_std, alpha=0.1)\n",
    "    axes[1].set_xlabel(\"Training examples\")\n",
    "    axes[1].set_ylabel(\"fit_times\")\n",
    "    axes[1].set_title(\"Scalability of the model\")\n",
    "\n",
    "    # Plot fit_time vs score\n",
    "    axes[2].grid()\n",
    "    axes[2].plot(fit_times_mean, test_scores_mean, 'o-')\n",
    "    axes[2].fill_between(fit_times_mean, test_scores_mean - test_scores_std,\n",
    "                         test_scores_mean + test_scores_std, alpha=0.1)\n",
    "    axes[2].set_xlabel(\"fit_times\")\n",
    "    axes[2].set_ylabel(\"Score\")\n",
    "    axes[2].set_title(\"Performance of the model\")\n",
    "    \"\"\"\n",
    "    return plt\n"
   ]
  },
  {
   "cell_type": "code",
   "execution_count": 12,
   "metadata": {},
   "outputs": [
    {
     "name": "stderr",
     "output_type": "stream",
     "text": [
      "C:\\Users\\vparihar\\AppData\\Local\\Continuum\\anaconda3\\lib\\site-packages\\sklearn\\svm\\base.py:193: FutureWarning: The default value of gamma will change from 'auto' to 'scale' in version 0.22 to account better for unscaled features. Set gamma explicitly to 'auto' or 'scale' to avoid this warning.\n",
      "  \"avoid this warning.\", FutureWarning)\n"
     ]
    },
    {
     "name": "stdout",
     "output_type": "stream",
     "text": [
      "training time base model RBF kernel:  599.0055513381958  seconds\n",
      "Classification:  SVC_rbf_Adult\n",
      "\n",
      "Training data\n",
      "accuracy :  0.998963452088452\n",
      "precision :  1.0\n",
      "recall :  0.9956841432225064\n",
      "AUC :  0.9978420716112533\n",
      "accuracy_count :  26021\n",
      "r2Score :  0.994319955671981\n",
      "mean_squared_error :  0.0010365479115479114\n",
      "confusionmatrix :  col_0       0     1\n",
      "salary             \n",
      "0       19792     0\n",
      "1          27  6229\n",
      "\n",
      "Test data\n",
      "accuracy :  0.7564870259481038\n",
      "precision :  0.42857142857142855\n",
      "recall :  0.0018927444794952682\n",
      "AUC :  0.5005405280839035\n",
      "accuracy_count :  4927\n",
      "r2Score :  -0.32246533041091396\n",
      "mean_squared_error :  0.2435129740518962\n",
      "confusionmatrix :  col_0      0  1\n",
      "salary         \n",
      "0       4924  4\n",
      "1       1582  3\n",
      "\n"
     ]
    },
    {
     "data": {
      "image/png": "[encoded data removed]",
      "text/plain": [
       "<Figure size 720x1080 with 4 Axes>"
      ]
     },
     "metadata": {
      "needs_background": "light"
     },
     "output_type": "display_data"
    }
   ],
   "source": [
    "model,result_dict['SVC_rbf_Adult'] = buildModel(classifier_fn,X,Y)\n",
    "compare_results()\n",
    "\n",
    "train_sizes = [500,1000,5000, 10000, 15000, 20000, 26000]\n",
    "fig, axes = plt.subplots(2, 2, figsize=(10, 15))\n",
    "\n",
    "#X, y = load_digits(return_X_y=True)\n",
    "\n",
    "title = \"Learning Curves SVC-Adult Dataset\"\n",
    "\n",
    "plot_learning_curve(model, title, X, Y, axes=axes[:, 0],\n",
    "                    cv=5, n_jobs=4,train_sizes=train_sizes)\n",
    "\n",
    "plt.show()"
   ]
  },
  {
   "cell_type": "code",
   "execution_count": 13,
   "metadata": {},
   "outputs": [
    {
     "name": "stderr",
     "output_type": "stream",
     "text": [
      "C:\\Users\\vparihar\\AppData\\Local\\Continuum\\anaconda3\\lib\\site-packages\\sklearn\\svm\\base.py:193: FutureWarning: The default value of gamma will change from 'auto' to 'scale' in version 0.22 to account better for unscaled features. Set gamma explicitly to 'auto' or 'scale' to avoid this warning.\n",
      "  \"avoid this warning.\", FutureWarning)\n"
     ]
    },
    {
     "name": "stdout",
     "output_type": "stream",
     "text": [
      "training time base model linear:  460.81619000434875  seconds\n",
      "Classification:  SVC_rbf_Adult\n",
      "\n",
      "Training data\n",
      "accuracy :  0.998963452088452\n",
      "precision :  1.0\n",
      "recall :  0.9956841432225064\n",
      "AUC :  0.9978420716112533\n",
      "accuracy_count :  26021\n",
      "r2Score :  0.994319955671981\n",
      "mean_squared_error :  0.0010365479115479114\n",
      "confusionmatrix :  col_0       0     1\n",
      "salary             \n",
      "0       19792     0\n",
      "1          27  6229\n",
      "\n",
      "Test data\n",
      "accuracy :  0.7564870259481038\n",
      "precision :  0.42857142857142855\n",
      "recall :  0.0018927444794952682\n",
      "AUC :  0.5005405280839035\n",
      "accuracy_count :  4927\n",
      "r2Score :  -0.32246533041091396\n",
      "mean_squared_error :  0.2435129740518962\n",
      "confusionmatrix :  col_0      0  1\n",
      "salary         \n",
      "0       4924  4\n",
      "1       1582  3\n",
      "\n",
      "Classification:  SVC_liner_Adult\n",
      "\n",
      "Training data\n",
      "accuracy :  0.9988866707616708\n",
      "precision :  1.0\n",
      "recall :  0.9953331187640811\n",
      "AUC :  0.9976665593820406\n",
      "accuracy_count :  26019\n",
      "r2Score :  0.993870983037551\n",
      "mean_squared_error :  0.0011133292383292384\n",
      "confusionmatrix :  col_0       0     1\n",
      "salary             \n",
      "0       19834     0\n",
      "1          29  6185\n",
      "\n",
      "Test data\n",
      "accuracy :  0.7503454629203132\n",
      "precision :  0.5714285714285714\n",
      "recall :  0.002458512599877074\n",
      "AUC :  0.5009222567092714\n",
      "accuracy_count :  4887\n",
      "r2Score :  -0.332172928133289\n",
      "mean_squared_error :  0.24965453707968677\n",
      "confusionmatrix :  col_0      0  1\n",
      "salary         \n",
      "0       4883  3\n",
      "1       1623  4\n",
      "\n"
     ]
    },
    {
     "data": {
      "image/png": "[encoded data removed]",
      "text/plain": [
       "<Figure size 720x1080 with 4 Axes>"
      ]
     },
     "metadata": {
      "needs_background": "light"
     },
     "output_type": "display_data"
    }
   ],
   "source": [
    "model,result_dict['SVC_liner_Adult'] = buildModel(classifier_fn_linear,X,Y)\n",
    "compare_results()\n",
    "\n",
    "train_sizes = [500,1000,5000, 10000, 15000, 20000, 26000]\n",
    "fig, axes = plt.subplots(2, 2, figsize=(10, 15))\n",
    "\n",
    "#X, y = load_digits(return_X_y=True)\n",
    "\n",
    "title = \"Learning Curves SVC-Adult Dataset\"\n",
    "\n",
    "plot_learning_curve(model, title, X, Y, axes=axes[:, 0],\n",
    "                    cv=5, n_jobs=4,train_sizes=train_sizes)\n",
    "\n",
    "plt.show()"
   ]
  },
  {
   "cell_type": "code",
   "execution_count": 14,
   "metadata": {},
   "outputs": [],
   "source": [
    "from sklearn.model_selection import GridSearchCV\n",
    "\n",
    "def grid_searchCV(X,Y,params,cv):\n",
    "    X_train,X_test,Y_train,Y_test = train_test_split(X, Y, test_size=0.2)\n",
    "    parameters = params\n",
    "    grid_search=GridSearchCV(SVC(),parameters,cv=cv,return_train_score=True)\n",
    "\n",
    "    grid_search.fit(X_train,Y_train)\n",
    "    \n",
    "    count = 1\n",
    "    for x in parameters: \n",
    "        if isinstance(parameters[x], list): \n",
    "            count *= len(parameters[x]) \n",
    "\n",
    "    for i in range(count):\n",
    "        print('parameters: ',grid_search.cv_results_['params'][i])\n",
    "        print('mean_test_score: ',grid_search.cv_results_['mean_test_score'][i])\n",
    "        print('rank: ',grid_search.cv_results_['rank_test_score'][i])    \n",
    "\n",
    "    Y_pred = grid_search.predict(X_test)\n",
    "    print(summarise_classification(Y_test,Y_pred))\n",
    "    return grid_search"
   ]
  },
  {
   "cell_type": "code",
   "execution_count": 15,
   "metadata": {},
   "outputs": [
    {
     "name": "stdout",
     "output_type": "stream",
     "text": [
      "(2000, 500)\n",
      "(2000,)\n"
     ]
    }
   ],
   "source": [
    "dfMadelon_X = pd.read_csv(\".\\\\data\\\\madelon_train.csv\")\n",
    "dfMadelon_Y1 = pd.read_csv(\".\\\\data\\\\madelon_train_labels.csv\")\n",
    "\n",
    "dfMadelon_Y = dfMadelon_Y1['Predict']\n",
    "print(dfMadelon_X.shape)\n",
    "print(dfMadelon_Y.shape)"
   ]
  },
  {
   "cell_type": "code",
   "execution_count": 16,
   "metadata": {},
   "outputs": [
    {
     "name": "stderr",
     "output_type": "stream",
     "text": [
      "C:\\Users\\vparihar\\AppData\\Local\\Continuum\\anaconda3\\lib\\site-packages\\sklearn\\svm\\base.py:193: FutureWarning: The default value of gamma will change from 'auto' to 'scale' in version 0.22 to account better for unscaled features. Set gamma explicitly to 'auto' or 'scale' to avoid this warning.\n",
      "  \"avoid this warning.\", FutureWarning)\n"
     ]
    },
    {
     "name": "stdout",
     "output_type": "stream",
     "text": [
      "training time base model RBF kernel:  2.5701940059661865  seconds\n"
     ]
    },
    {
     "name": "stderr",
     "output_type": "stream",
     "text": [
      "C:\\Users\\vparihar\\AppData\\Local\\Continuum\\anaconda3\\lib\\site-packages\\sklearn\\metrics\\classification.py:1437: UndefinedMetricWarning: Precision is ill-defined and being set to 0.0 due to no predicted samples.\n",
      "  'precision', 'predicted', average, warn_for)\n"
     ]
    },
    {
     "name": "stdout",
     "output_type": "stream",
     "text": [
      "Classification:  SVC_rbf_Adult\n",
      "\n",
      "Training data\n",
      "accuracy :  0.998963452088452\n",
      "precision :  1.0\n",
      "recall :  0.9956841432225064\n",
      "AUC :  0.9978420716112533\n",
      "accuracy_count :  26021\n",
      "r2Score :  0.994319955671981\n",
      "mean_squared_error :  0.0010365479115479114\n",
      "confusionmatrix :  col_0       0     1\n",
      "salary             \n",
      "0       19792     0\n",
      "1          27  6229\n",
      "\n",
      "Test data\n",
      "accuracy :  0.7564870259481038\n",
      "precision :  0.42857142857142855\n",
      "recall :  0.0018927444794952682\n",
      "AUC :  0.5005405280839035\n",
      "accuracy_count :  4927\n",
      "r2Score :  -0.32246533041091396\n",
      "mean_squared_error :  0.2435129740518962\n",
      "confusionmatrix :  col_0      0  1\n",
      "salary         \n",
      "0       4924  4\n",
      "1       1582  3\n",
      "\n",
      "Classification:  SVC_liner_Adult\n",
      "\n",
      "Training data\n",
      "accuracy :  0.9988866707616708\n",
      "precision :  1.0\n",
      "recall :  0.9953331187640811\n",
      "AUC :  0.9976665593820406\n",
      "accuracy_count :  26019\n",
      "r2Score :  0.993870983037551\n",
      "mean_squared_error :  0.0011133292383292384\n",
      "confusionmatrix :  col_0       0     1\n",
      "salary             \n",
      "0       19834     0\n",
      "1          29  6185\n",
      "\n",
      "Test data\n",
      "accuracy :  0.7503454629203132\n",
      "precision :  0.5714285714285714\n",
      "recall :  0.002458512599877074\n",
      "AUC :  0.5009222567092714\n",
      "accuracy_count :  4887\n",
      "r2Score :  -0.332172928133289\n",
      "mean_squared_error :  0.24965453707968677\n",
      "confusionmatrix :  col_0      0  1\n",
      "salary         \n",
      "0       4883  3\n",
      "1       1623  4\n",
      "\n",
      "Classification:  SVC_rbf_Madelon\n",
      "\n",
      "Training data\n",
      "accuracy :  1.0\n",
      "precision :  1.0\n",
      "recall :  1.0\n",
      "AUC :  1.0\n",
      "accuracy_count :  1600\n",
      "r2Score :  1.0\n",
      "mean_squared_error :  0.0\n",
      "confusionmatrix :  col_0     -1    1\n",
      "Predict          \n",
      "-1       806    0\n",
      " 1         0  794\n",
      "\n",
      "Test data\n",
      "accuracy :  0.485\n",
      "precision :  0.0\n",
      "recall :  0.0\n",
      "AUC :  0.5\n",
      "accuracy_count :  194\n",
      "r2Score :  -1.061855670103093\n",
      "mean_squared_error :  2.06\n",
      "confusionmatrix :  col_0     -1\n",
      "Predict     \n",
      "-1       194\n",
      " 1       206\n",
      "\n"
     ]
    },
    {
     "data": {
      "image/png": "[encoded data removed]",
      "text/plain": [
       "<Figure size 720x1080 with 4 Axes>"
      ]
     },
     "metadata": {
      "needs_background": "light"
     },
     "output_type": "display_data"
    }
   ],
   "source": [
    "\n",
    "model,result_dict['SVC_rbf_Madelon'] = buildModel(classifier_fn,dfMadelon_X,dfMadelon_Y)\n",
    "compare_results()\n",
    "\n",
    "train_sizes = [50, 100,500, 1000, 1500]\n",
    "fig, axes = plt.subplots(2, 2, figsize=(10, 15))\n",
    "\n",
    "#X, y = load_digits(return_X_y=True)\n",
    "\n",
    "title = \"Learning Curves SVC-Madelon Dataset\"\n",
    "\n",
    "plot_learning_curve(model, title, X, Y, axes=axes[:, 0],\n",
    "                    cv=5, n_jobs=4,train_sizes=train_sizes)\n",
    "\n",
    "plt.show()\n"
   ]
  },
  {
   "cell_type": "code",
   "execution_count": 17,
   "metadata": {},
   "outputs": [
    {
     "name": "stderr",
     "output_type": "stream",
     "text": [
      "C:\\Users\\vparihar\\AppData\\Local\\Continuum\\anaconda3\\lib\\site-packages\\sklearn\\svm\\base.py:193: FutureWarning: The default value of gamma will change from 'auto' to 'scale' in version 0.22 to account better for unscaled features. Set gamma explicitly to 'auto' or 'scale' to avoid this warning.\n",
      "  \"avoid this warning.\", FutureWarning)\n"
     ]
    },
    {
     "name": "stdout",
     "output_type": "stream",
     "text": [
      "training time base model linear:  2.7070260047912598  seconds\n",
      "Classification:  SVC_rbf_Adult\n",
      "\n",
      "Training data\n",
      "accuracy :  0.998963452088452\n",
      "precision :  1.0\n",
      "recall :  0.9956841432225064\n",
      "AUC :  0.9978420716112533\n",
      "accuracy_count :  26021\n",
      "r2Score :  0.994319955671981\n",
      "mean_squared_error :  0.0010365479115479114\n",
      "confusionmatrix :  col_0       0     1\n",
      "salary             \n",
      "0       19792     0\n",
      "1          27  6229\n",
      "\n",
      "Test data\n",
      "accuracy :  0.7564870259481038\n",
      "precision :  0.42857142857142855\n",
      "recall :  0.0018927444794952682\n",
      "AUC :  0.5005405280839035\n",
      "accuracy_count :  4927\n",
      "r2Score :  -0.32246533041091396\n",
      "mean_squared_error :  0.2435129740518962\n",
      "confusionmatrix :  col_0      0  1\n",
      "salary         \n",
      "0       4924  4\n",
      "1       1582  3\n",
      "\n",
      "Classification:  SVC_liner_Adult\n",
      "\n",
      "Training data\n",
      "accuracy :  0.9988866707616708\n",
      "precision :  1.0\n",
      "recall :  0.9953331187640811\n",
      "AUC :  0.9976665593820406\n",
      "accuracy_count :  26019\n",
      "r2Score :  0.993870983037551\n",
      "mean_squared_error :  0.0011133292383292384\n",
      "confusionmatrix :  col_0       0     1\n",
      "salary             \n",
      "0       19834     0\n",
      "1          29  6185\n",
      "\n",
      "Test data\n",
      "accuracy :  0.7503454629203132\n",
      "precision :  0.5714285714285714\n",
      "recall :  0.002458512599877074\n",
      "AUC :  0.5009222567092714\n",
      "accuracy_count :  4887\n",
      "r2Score :  -0.332172928133289\n",
      "mean_squared_error :  0.24965453707968677\n",
      "confusionmatrix :  col_0      0  1\n",
      "salary         \n",
      "0       4883  3\n",
      "1       1623  4\n",
      "\n",
      "Classification:  SVC_rbf_Madelon\n",
      "\n",
      "Training data\n",
      "accuracy :  1.0\n",
      "precision :  1.0\n",
      "recall :  1.0\n",
      "AUC :  1.0\n",
      "accuracy_count :  1600\n",
      "r2Score :  1.0\n",
      "mean_squared_error :  0.0\n",
      "confusionmatrix :  col_0     -1    1\n",
      "Predict          \n",
      "-1       806    0\n",
      " 1         0  794\n",
      "\n",
      "Test data\n",
      "accuracy :  0.485\n",
      "precision :  0.0\n",
      "recall :  0.0\n",
      "AUC :  0.5\n",
      "accuracy_count :  194\n",
      "r2Score :  -1.061855670103093\n",
      "mean_squared_error :  2.06\n",
      "confusionmatrix :  col_0     -1\n",
      "Predict     \n",
      "-1       194\n",
      " 1       206\n",
      "\n",
      "Classification:  SVC_linear_Madelon\n",
      "\n",
      "Training data\n",
      "accuracy :  1.0\n",
      "precision :  1.0\n",
      "recall :  1.0\n",
      "AUC :  1.0\n",
      "accuracy_count :  1600\n",
      "r2Score :  1.0\n",
      "mean_squared_error :  0.0\n",
      "confusionmatrix :  col_0     -1    1\n",
      "Predict          \n",
      "-1       792    0\n",
      " 1         0  808\n",
      "\n",
      "Test data\n",
      "accuracy :  0.48\n",
      "precision :  0.48\n",
      "recall :  1.0\n",
      "AUC :  0.5\n",
      "accuracy_count :  192\n",
      "r2Score :  -1.0833333333333335\n",
      "mean_squared_error :  2.08\n",
      "confusionmatrix :  col_0      1\n",
      "Predict     \n",
      "-1       208\n",
      " 1       192\n",
      "\n"
     ]
    },
    {
     "data": {
      "image/png": "[encoded data removed]",
      "text/plain": [
       "<Figure size 720x1080 with 4 Axes>"
      ]
     },
     "metadata": {
      "needs_background": "light"
     },
     "output_type": "display_data"
    }
   ],
   "source": [
    "model,result_dict['SVC_linear_Madelon'] = buildModel(classifier_fn_linear,dfMadelon_X,dfMadelon_Y)\n",
    "compare_results()\n",
    "\n",
    "train_sizes = [50, 100,500, 1000, 1500]\n",
    "fig, axes = plt.subplots(2, 2, figsize=(10, 15))\n",
    "\n",
    "#X, y = load_digits(return_X_y=True)\n",
    "\n",
    "title = \"Learning Curves SVC-Madelon Dataset\"\n",
    "\n",
    "plot_learning_curve(model, title, X, Y, axes=axes[:, 0],\n",
    "                    cv=5, n_jobs=4,train_sizes=train_sizes)\n",
    "\n",
    "plt.show()"
   ]
  }
 ],
 "metadata": {
  "kernelspec": {
   "display_name": "Python 3",
   "language": "python",
   "name": "python3"
  },
  "language_info": {
   "codemirror_mode": {
    "name": "ipython",
    "version": 3
   },
   "file_extension": ".py",
   "mimetype": "text/x-python",
   "name": "python",
   "nbconvert_exporter": "python",
   "pygments_lexer": "ipython3",
   "version": "3.7.4"
  }
 },
 "nbformat": 4,
 "nbformat_minor": 2
}
